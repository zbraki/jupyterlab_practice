{
 "cells": [
  {
   "cell_type": "markdown",
   "id": "b435f617-24e2-40fd-93cd-b0380d88de0b",
   "metadata": {},
   "source": [
    "# Michael Karbonik (git username: zbraki)\n",
    "Notebook for assignment 7"
   ]
  },
  {
   "cell_type": "code",
   "execution_count": null,
   "id": "170cbbff-7dd1-40dd-8a75-5a49e4467a41",
   "metadata": {
    "tags": []
   },
   "outputs": [],
   "source": [
    "def compute_mean(list):\n",
    "    \"\"\" \n",
    "    This function will return the mean of a list\n",
    "    \"\"\"\n",
    "    mean = sum(list)/len(list)\n",
    "    return mean\n",
    "\n",
    "compute_mean([2,4,6,8])"
   ]
  },
  {
   "cell_type": "markdown",
   "id": "182f3cab-00d7-4dbc-89ec-2baa62430b68",
   "metadata": {
    "tags": []
   },
   "source": [
    "The code includes a python function which returns the average of a list of numbers. This is expressed mathematically as follows:\n",
    "\n",
    "$\\bar x = \\dfrac{x_1+x_2+...+x_n}{n} =\\dfrac{1}{n}\\left(\\sum_{i=1}^{n} x_i\\right)$"
   ]
  },
  {
   "cell_type": "code",
   "execution_count": null,
   "id": "e0c1a1dd-e748-4aed-a62e-554086ee2b6a",
   "metadata": {},
   "outputs": [],
   "source": []
  }
 ],
 "metadata": {
  "kernelspec": {
   "display_name": "Python [conda env:a7-env] *",
   "language": "python",
   "name": "conda-env-a7-env-py"
  },
  "language_info": {
   "codemirror_mode": {
    "name": "ipython",
    "version": 3
   },
   "file_extension": ".py",
   "mimetype": "text/x-python",
   "name": "python",
   "nbconvert_exporter": "python",
   "pygments_lexer": "ipython3",
   "version": "3.11.5"
  }
 },
 "nbformat": 4,
 "nbformat_minor": 5
}
